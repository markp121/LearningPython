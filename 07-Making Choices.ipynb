{
 "cells": [
  {
   "cell_type": "markdown",
   "metadata": {},
   "source": [
    "# Conditionals"
   ]
  },
  {
   "cell_type": "code",
   "execution_count": 1,
   "metadata": {},
   "outputs": [
    {
     "name": "stdout",
     "output_type": "stream",
     "text": [
      "not greater\n",
      "finished\n"
     ]
    }
   ],
   "source": [
    "num = 37 \n",
    "if num > 100:\n",
    "    print(\"greater\")\n",
    "else:\n",
    "    print(\"not greater\")\n",
    "    \n",
    "print(\"finished\")"
   ]
  },
  {
   "cell_type": "code",
   "execution_count": 4,
   "metadata": {},
   "outputs": [
    {
     "name": "stdout",
     "output_type": "stream",
     "text": [
      "in between\n"
     ]
    }
   ],
   "source": [
    "new_num = 500\n",
    "if new_num < 100:\n",
    "    print(\"Doing something\")\n",
    "elif new_num > 1000:\n",
    "    print(\"greater than 1000\")\n",
    "else:\n",
    "    print(\"in between\")\n",
    "    "
   ]
  },
  {
   "cell_type": "code",
   "execution_count": 5,
   "metadata": {},
   "outputs": [
    {
     "name": "stdout",
     "output_type": "stream",
     "text": [
      "Both true\n"
     ]
    }
   ],
   "source": [
    "if (1 > 0) and (-1 < 0) and (10 > 5):\n",
    "    print(\"Both true\")"
   ]
  },
  {
   "cell_type": "markdown",
   "metadata": {},
   "source": [
    "# Checking our data"
   ]
  },
  {
   "cell_type": "code",
   "execution_count": 6,
   "metadata": {},
   "outputs": [],
   "source": [
    "import numpy"
   ]
  },
  {
   "cell_type": "code",
   "execution_count": 8,
   "metadata": {},
   "outputs": [
    {
     "name": "stdout",
     "output_type": "stream",
     "text": [
      "mean < 10\n"
     ]
    }
   ],
   "source": [
    "data = numpy.loadtxt(\"data/inflammation-01.csv\", delimiter=\",\")\n",
    "mean = numpy.mean(data, axis=0)\n",
    "\n",
    "if mean[0] > 10:\n",
    "    print(\"mean > 10\")\n",
    "else:\n",
    "    print(\"mean < 10\")"
   ]
  },
  {
   "cell_type": "code",
   "execution_count": 11,
   "metadata": {},
   "outputs": [
    {
     "name": "stdout",
     "output_type": "stream",
     "text": [
      "data\\inflammation-01.csv\n",
      "data\\inflammation-02.csv\n",
      "data\\inflammation-03.csv\n",
      "suspicious data - check\n",
      "data\\inflammation-04.csv\n",
      "data\\inflammation-05.csv\n",
      "data\\inflammation-06.csv\n",
      "data\\inflammation-07.csv\n",
      "data\\inflammation-08.csv\n",
      "suspicious data - check\n",
      "data\\inflammation-09.csv\n",
      "data\\inflammation-10.csv\n",
      "data\\inflammation-11.csv\n",
      "suspicious data - check\n",
      "data\\inflammation-12.csv\n"
     ]
    }
   ],
   "source": [
    "import glob\n",
    "filenames = sorted(glob.glob(\"data/inflammation-*.csv\"))\n",
    "\n",
    "for filename in filenames:\n",
    "    print(filename)\n",
    "    data = numpy.loadtxt(filename, delimiter=\",\")\n",
    "    \n",
    "    min_value = numpy.min(data, axis=0)\n",
    "    \n",
    "    sum_of_min = numpy.sum(min_value)\n",
    "    \n",
    "    if sum_of_min == 0:\n",
    "        print(\"suspicious data - check\")"
   ]
  },
  {
   "cell_type": "code",
   "execution_count": 15,
   "metadata": {},
   "outputs": [
    {
     "name": "stdout",
     "output_type": "stream",
     "text": [
      "Summer is going away...\n"
     ]
    }
   ],
   "source": [
    "temperature =20\n",
    "\n",
    "\n",
    "if temperature > 20:\n",
    "    print(\"Yay, summer!\")\n",
    "elif temperature > 10:\n",
    "    print(\"Summer is going away...\")\n",
    "else:\n",
    "    print(\"I bet you it's gonna rain today\")\n"
   ]
  },
  {
   "cell_type": "code",
   "execution_count": null,
   "metadata": {},
   "outputs": [],
   "source": []
  }
 ],
 "metadata": {
  "kernelspec": {
   "display_name": "Python 3",
   "language": "python",
   "name": "python3"
  },
  "language_info": {
   "codemirror_mode": {
    "name": "ipython",
    "version": 3
   },
   "file_extension": ".py",
   "mimetype": "text/x-python",
   "name": "python",
   "nbconvert_exporter": "python",
   "pygments_lexer": "ipython3",
   "version": "3.8.3"
  }
 },
 "nbformat": 4,
 "nbformat_minor": 4
}
